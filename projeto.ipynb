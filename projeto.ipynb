{
 "cells": [
  {
   "cell_type": "markdown",
   "id": "b335b105-378a-4483-a6ae-33f3cfe7b06e",
   "metadata": {},
   "source": [
    "### Primeiro Passo"
   ]
  },
  {
   "cell_type": "markdown",
   "id": "a0c89a07-a734-4c91-9a4d-6898ff6ee690",
   "metadata": {},
   "source": [
    "Acessando o arquivo ocorrencia_2010_2020.csv no Libre Office e excluindo as colunas que não serão necessárias"
   ]
  },
  {
   "cell_type": "markdown",
   "id": "4f4917df-2b71-44bc-847c-95dafcdb83d7",
   "metadata": {},
   "source": [
    "# Etapa de extração"
   ]
  },
  {
   "cell_type": "markdown",
   "id": "9724a897-005b-40af-9310-0d472abe403c",
   "metadata": {},
   "source": [
    "### Importando a biblioteca Pandas"
   ]
  },
  {
   "cell_type": "code",
   "execution_count": 1,
   "id": "de697379-c4a5-4a89-bdbd-2a9e9a7f01ee",
   "metadata": {},
   "outputs": [],
   "source": [
    "import pandas as pd\n",
    "import pandera as pa #validacao de dataframe"
   ]
  },
  {
   "cell_type": "markdown",
   "id": "d77de1fb-cc60-4ab3-bf31-c726dd3aefc2",
   "metadata": {},
   "source": [
    "### Carregamento do arquivo csv"
   ]
  },
  {
   "cell_type": "code",
   "execution_count": 2,
   "id": "1d644bd5-0eb4-4bf8-a5cf-f7a7f235991f",
   "metadata": {},
   "outputs": [
    {
     "data": {
      "text/html": [
       "<div>\n",
       "<style scoped>\n",
       "    .dataframe tbody tr th:only-of-type {\n",
       "        vertical-align: middle;\n",
       "    }\n",
       "\n",
       "    .dataframe tbody tr th {\n",
       "        vertical-align: top;\n",
       "    }\n",
       "\n",
       "    .dataframe thead th {\n",
       "        text-align: right;\n",
       "    }\n",
       "</style>\n",
       "<table border=\"1\" class=\"dataframe\">\n",
       "  <thead>\n",
       "    <tr style=\"text-align: right;\">\n",
       "      <th></th>\n",
       "      <th>codigo_ocorrencia</th>\n",
       "      <th>codigo_ocorrencia2</th>\n",
       "      <th>ocorrencia_classificacao</th>\n",
       "      <th>ocorrencia_cidade</th>\n",
       "      <th>ocorrencia_uf</th>\n",
       "      <th>ocorrencia_aerodromo</th>\n",
       "      <th>ocorrencia_dia</th>\n",
       "      <th>ocorrencia_hora</th>\n",
       "      <th>total_recomendacoes</th>\n",
       "    </tr>\n",
       "  </thead>\n",
       "  <tbody>\n",
       "    <tr>\n",
       "      <th>0</th>\n",
       "      <td>40211</td>\n",
       "      <td>40211</td>\n",
       "      <td>INCIDENTE</td>\n",
       "      <td>RIO DE JANEIRO</td>\n",
       "      <td>RJ</td>\n",
       "      <td>****</td>\n",
       "      <td>2010-01-03</td>\n",
       "      <td>12:00:00</td>\n",
       "      <td>0</td>\n",
       "    </tr>\n",
       "    <tr>\n",
       "      <th>1</th>\n",
       "      <td>40349</td>\n",
       "      <td>40349</td>\n",
       "      <td>INCIDENTE</td>\n",
       "      <td>BELÉM</td>\n",
       "      <td>PA</td>\n",
       "      <td>SBBE</td>\n",
       "      <td>2010-01-03</td>\n",
       "      <td>11:05:00</td>\n",
       "      <td>0</td>\n",
       "    </tr>\n",
       "    <tr>\n",
       "      <th>2</th>\n",
       "      <td>40351</td>\n",
       "      <td>40351</td>\n",
       "      <td>INCIDENTE</td>\n",
       "      <td>RIO DE JANEIRO</td>\n",
       "      <td>RJ</td>\n",
       "      <td>SBRJ</td>\n",
       "      <td>2010-01-03</td>\n",
       "      <td>03:00:00</td>\n",
       "      <td>0</td>\n",
       "    </tr>\n",
       "  </tbody>\n",
       "</table>\n",
       "</div>"
      ],
      "text/plain": [
       "   codigo_ocorrencia  codigo_ocorrencia2 ocorrencia_classificacao  \\\n",
       "0              40211               40211                INCIDENTE   \n",
       "1              40349               40349                INCIDENTE   \n",
       "2              40351               40351                INCIDENTE   \n",
       "\n",
       "  ocorrencia_cidade ocorrencia_uf ocorrencia_aerodromo ocorrencia_dia  \\\n",
       "0    RIO DE JANEIRO            RJ                 ****     2010-01-03   \n",
       "1             BELÉM            PA                 SBBE     2010-01-03   \n",
       "2    RIO DE JANEIRO            RJ                 SBRJ     2010-01-03   \n",
       "\n",
       "  ocorrencia_hora  total_recomendacoes  \n",
       "0        12:00:00                    0  \n",
       "1        11:05:00                    0  \n",
       "2        03:00:00                    0  "
      ]
     },
     "execution_count": 2,
     "metadata": {},
     "output_type": "execute_result"
    }
   ],
   "source": [
    "df = pd.read_csv(\"ocorrencia_2010_2020.csv\", sep=\";\", parse_dates=[\"ocorrencia_dia\"], dayfirst=True)\n",
    "df.head(3) #exibindo os 3 primeiros"
   ]
  },
  {
   "cell_type": "code",
   "execution_count": 3,
   "id": "c040a4fb-fc62-48b0-8b58-3b9d10fd676a",
   "metadata": {},
   "outputs": [
    {
     "data": {
      "text/html": [
       "<div>\n",
       "<style scoped>\n",
       "    .dataframe tbody tr th:only-of-type {\n",
       "        vertical-align: middle;\n",
       "    }\n",
       "\n",
       "    .dataframe tbody tr th {\n",
       "        vertical-align: top;\n",
       "    }\n",
       "\n",
       "    .dataframe thead th {\n",
       "        text-align: right;\n",
       "    }\n",
       "</style>\n",
       "<table border=\"1\" class=\"dataframe\">\n",
       "  <thead>\n",
       "    <tr style=\"text-align: right;\">\n",
       "      <th></th>\n",
       "      <th>codigo_ocorrencia</th>\n",
       "      <th>codigo_ocorrencia2</th>\n",
       "      <th>ocorrencia_classificacao</th>\n",
       "      <th>ocorrencia_cidade</th>\n",
       "      <th>ocorrencia_uf</th>\n",
       "      <th>ocorrencia_aerodromo</th>\n",
       "      <th>ocorrencia_dia</th>\n",
       "      <th>ocorrencia_hora</th>\n",
       "      <th>total_recomendacoes</th>\n",
       "    </tr>\n",
       "  </thead>\n",
       "  <tbody>\n",
       "    <tr>\n",
       "      <th>5749</th>\n",
       "      <td>79802</td>\n",
       "      <td>79802</td>\n",
       "      <td>INCIDENTE</td>\n",
       "      <td>RIO DE JANEIRO</td>\n",
       "      <td>RJ</td>\n",
       "      <td>SBGL</td>\n",
       "      <td>2020-12-30</td>\n",
       "      <td>00:54:00</td>\n",
       "      <td>0</td>\n",
       "    </tr>\n",
       "    <tr>\n",
       "      <th>5750</th>\n",
       "      <td>79756</td>\n",
       "      <td>79756</td>\n",
       "      <td>INCIDENTE GRAVE</td>\n",
       "      <td>VICENTINA</td>\n",
       "      <td>MS</td>\n",
       "      <td>****</td>\n",
       "      <td>2020-12-31</td>\n",
       "      <td>09:00:00</td>\n",
       "      <td>0</td>\n",
       "    </tr>\n",
       "    <tr>\n",
       "      <th>5751</th>\n",
       "      <td>79844</td>\n",
       "      <td>79844</td>\n",
       "      <td>INCIDENTE</td>\n",
       "      <td>RIO DE JANEIRO</td>\n",
       "      <td>RJ</td>\n",
       "      <td>SBJR</td>\n",
       "      <td>2020-12-31</td>\n",
       "      <td>13:24:00</td>\n",
       "      <td>0</td>\n",
       "    </tr>\n",
       "  </tbody>\n",
       "</table>\n",
       "</div>"
      ],
      "text/plain": [
       "      codigo_ocorrencia  codigo_ocorrencia2 ocorrencia_classificacao  \\\n",
       "5749              79802               79802                INCIDENTE   \n",
       "5750              79756               79756          INCIDENTE GRAVE   \n",
       "5751              79844               79844                INCIDENTE   \n",
       "\n",
       "     ocorrencia_cidade ocorrencia_uf ocorrencia_aerodromo ocorrencia_dia  \\\n",
       "5749    RIO DE JANEIRO            RJ                 SBGL     2020-12-30   \n",
       "5750         VICENTINA            MS                 ****     2020-12-31   \n",
       "5751    RIO DE JANEIRO            RJ                 SBJR     2020-12-31   \n",
       "\n",
       "     ocorrencia_hora  total_recomendacoes  \n",
       "5749        00:54:00                    0  \n",
       "5750        09:00:00                    0  \n",
       "5751        13:24:00                    0  "
      ]
     },
     "execution_count": 3,
     "metadata": {},
     "output_type": "execute_result"
    }
   ],
   "source": [
    "df.tail(3) #exibindo os 3 ultimos"
   ]
  },
  {
   "cell_type": "markdown",
   "id": "cd7612c9-8050-4816-a3c5-63a4d10bf54c",
   "metadata": {},
   "source": [
    "### Montando o esquema de validação"
   ]
  },
  {
   "cell_type": "code",
   "execution_count": 20,
   "id": "2d33bb97-641d-49ea-ab34-1ce366acfdb4",
   "metadata": {},
   "outputs": [],
   "source": [
    "schema = pa.DataFrameSchema(\n",
    "    columns = {\n",
    "        \"codigo\":pa.Column(pa.Int, required=False),  #coluna que pode vir ou nao vir\n",
    "        \"codigo_ocorrencia\":pa.Column(pa.Int),\n",
    "        \"codigo_ocorrencia2\":pa.Column(pa.Int),\n",
    "        \"ocorrencia_classificacao\":pa.Column(pa.String),\n",
    "        \"ocorrencia_cidade\":pa.Column(pa.String),\n",
    "        #checa um tamanho máximo e minimo\n",
    "        \"ocorrencia_uf\":pa.Column(pa.String, pa.Check.str_length(2,2)),\n",
    "        \"ocorrencia_aerodromo\":pa.Column(pa.String),\n",
    "        \"ocorrencia_dia\":pa.Column(pa.DateTime),\n",
    "        # é preciso checar se as horas estão entre 0 e 24hrs. Feito com expressões regulares\n",
    "        \"ocorrencia_hora\":pa.Column(pa.String, pa.Check.str_matches(r\"^([0-1]?[0-9]|[2][0-3]):([0-5][0-9])(:[0-5][0-9])?$\"),nullable=True),\n",
    "        \"total_recomendacoes\":pa.Column(pa.Int)\n",
    "    }\n",
    ")"
   ]
  },
  {
   "cell_type": "code",
   "execution_count": 21,
   "id": "5aec1a66-ea71-42a0-9689-356e4da83dad",
   "metadata": {},
   "outputs": [
    {
     "data": {
      "text/html": [
       "<div>\n",
       "<style scoped>\n",
       "    .dataframe tbody tr th:only-of-type {\n",
       "        vertical-align: middle;\n",
       "    }\n",
       "\n",
       "    .dataframe tbody tr th {\n",
       "        vertical-align: top;\n",
       "    }\n",
       "\n",
       "    .dataframe thead th {\n",
       "        text-align: right;\n",
       "    }\n",
       "</style>\n",
       "<table border=\"1\" class=\"dataframe\">\n",
       "  <thead>\n",
       "    <tr style=\"text-align: right;\">\n",
       "      <th></th>\n",
       "      <th>codigo_ocorrencia</th>\n",
       "      <th>codigo_ocorrencia2</th>\n",
       "      <th>ocorrencia_classificacao</th>\n",
       "      <th>ocorrencia_cidade</th>\n",
       "      <th>ocorrencia_uf</th>\n",
       "      <th>ocorrencia_aerodromo</th>\n",
       "      <th>ocorrencia_dia</th>\n",
       "      <th>ocorrencia_hora</th>\n",
       "      <th>total_recomendacoes</th>\n",
       "    </tr>\n",
       "  </thead>\n",
       "  <tbody>\n",
       "    <tr>\n",
       "      <th>0</th>\n",
       "      <td>40211</td>\n",
       "      <td>40211</td>\n",
       "      <td>INCIDENTE</td>\n",
       "      <td>RIO DE JANEIRO</td>\n",
       "      <td>RJ</td>\n",
       "      <td>****</td>\n",
       "      <td>2010-01-03</td>\n",
       "      <td>12:00:00</td>\n",
       "      <td>0</td>\n",
       "    </tr>\n",
       "    <tr>\n",
       "      <th>1</th>\n",
       "      <td>40349</td>\n",
       "      <td>40349</td>\n",
       "      <td>INCIDENTE</td>\n",
       "      <td>BELÉM</td>\n",
       "      <td>PA</td>\n",
       "      <td>SBBE</td>\n",
       "      <td>2010-01-03</td>\n",
       "      <td>11:05:00</td>\n",
       "      <td>0</td>\n",
       "    </tr>\n",
       "    <tr>\n",
       "      <th>2</th>\n",
       "      <td>40351</td>\n",
       "      <td>40351</td>\n",
       "      <td>INCIDENTE</td>\n",
       "      <td>RIO DE JANEIRO</td>\n",
       "      <td>RJ</td>\n",
       "      <td>SBRJ</td>\n",
       "      <td>2010-01-03</td>\n",
       "      <td>03:00:00</td>\n",
       "      <td>0</td>\n",
       "    </tr>\n",
       "    <tr>\n",
       "      <th>3</th>\n",
       "      <td>39527</td>\n",
       "      <td>39527</td>\n",
       "      <td>ACIDENTE</td>\n",
       "      <td>LUCAS DO RIO VERDE</td>\n",
       "      <td>MT</td>\n",
       "      <td>****</td>\n",
       "      <td>2010-01-04</td>\n",
       "      <td>17:30:00</td>\n",
       "      <td>0</td>\n",
       "    </tr>\n",
       "    <tr>\n",
       "      <th>4</th>\n",
       "      <td>40324</td>\n",
       "      <td>40324</td>\n",
       "      <td>INCIDENTE</td>\n",
       "      <td>PELOTAS</td>\n",
       "      <td>RS</td>\n",
       "      <td>SBPK</td>\n",
       "      <td>2010-01-05</td>\n",
       "      <td>19:25:00</td>\n",
       "      <td>0</td>\n",
       "    </tr>\n",
       "    <tr>\n",
       "      <th>...</th>\n",
       "      <td>...</td>\n",
       "      <td>...</td>\n",
       "      <td>...</td>\n",
       "      <td>...</td>\n",
       "      <td>...</td>\n",
       "      <td>...</td>\n",
       "      <td>...</td>\n",
       "      <td>...</td>\n",
       "      <td>...</td>\n",
       "    </tr>\n",
       "    <tr>\n",
       "      <th>5747</th>\n",
       "      <td>79804</td>\n",
       "      <td>79804</td>\n",
       "      <td>INCIDENTE</td>\n",
       "      <td>CAMPINAS</td>\n",
       "      <td>SP</td>\n",
       "      <td>SBKP</td>\n",
       "      <td>2020-12-29</td>\n",
       "      <td>19:00:00</td>\n",
       "      <td>0</td>\n",
       "    </tr>\n",
       "    <tr>\n",
       "      <th>5748</th>\n",
       "      <td>79757</td>\n",
       "      <td>79757</td>\n",
       "      <td>INCIDENTE GRAVE</td>\n",
       "      <td>LAGOA DA CONFUSÃO</td>\n",
       "      <td>TO</td>\n",
       "      <td>****</td>\n",
       "      <td>2020-12-30</td>\n",
       "      <td>18:30:00</td>\n",
       "      <td>0</td>\n",
       "    </tr>\n",
       "    <tr>\n",
       "      <th>5749</th>\n",
       "      <td>79802</td>\n",
       "      <td>79802</td>\n",
       "      <td>INCIDENTE</td>\n",
       "      <td>RIO DE JANEIRO</td>\n",
       "      <td>RJ</td>\n",
       "      <td>SBGL</td>\n",
       "      <td>2020-12-30</td>\n",
       "      <td>00:54:00</td>\n",
       "      <td>0</td>\n",
       "    </tr>\n",
       "    <tr>\n",
       "      <th>5750</th>\n",
       "      <td>79756</td>\n",
       "      <td>79756</td>\n",
       "      <td>INCIDENTE GRAVE</td>\n",
       "      <td>VICENTINA</td>\n",
       "      <td>MS</td>\n",
       "      <td>****</td>\n",
       "      <td>2020-12-31</td>\n",
       "      <td>09:00:00</td>\n",
       "      <td>0</td>\n",
       "    </tr>\n",
       "    <tr>\n",
       "      <th>5751</th>\n",
       "      <td>79844</td>\n",
       "      <td>79844</td>\n",
       "      <td>INCIDENTE</td>\n",
       "      <td>RIO DE JANEIRO</td>\n",
       "      <td>RJ</td>\n",
       "      <td>SBJR</td>\n",
       "      <td>2020-12-31</td>\n",
       "      <td>13:24:00</td>\n",
       "      <td>0</td>\n",
       "    </tr>\n",
       "  </tbody>\n",
       "</table>\n",
       "<p>5752 rows × 9 columns</p>\n",
       "</div>"
      ],
      "text/plain": [
       "      codigo_ocorrencia  codigo_ocorrencia2 ocorrencia_classificacao  \\\n",
       "0                 40211               40211                INCIDENTE   \n",
       "1                 40349               40349                INCIDENTE   \n",
       "2                 40351               40351                INCIDENTE   \n",
       "3                 39527               39527                 ACIDENTE   \n",
       "4                 40324               40324                INCIDENTE   \n",
       "...                 ...                 ...                      ...   \n",
       "5747              79804               79804                INCIDENTE   \n",
       "5748              79757               79757          INCIDENTE GRAVE   \n",
       "5749              79802               79802                INCIDENTE   \n",
       "5750              79756               79756          INCIDENTE GRAVE   \n",
       "5751              79844               79844                INCIDENTE   \n",
       "\n",
       "       ocorrencia_cidade ocorrencia_uf ocorrencia_aerodromo ocorrencia_dia  \\\n",
       "0         RIO DE JANEIRO            RJ                 ****     2010-01-03   \n",
       "1                  BELÉM            PA                 SBBE     2010-01-03   \n",
       "2         RIO DE JANEIRO            RJ                 SBRJ     2010-01-03   \n",
       "3     LUCAS DO RIO VERDE            MT                 ****     2010-01-04   \n",
       "4                PELOTAS            RS                 SBPK     2010-01-05   \n",
       "...                  ...           ...                  ...            ...   \n",
       "5747            CAMPINAS            SP                 SBKP     2020-12-29   \n",
       "5748   LAGOA DA CONFUSÃO            TO                 ****     2020-12-30   \n",
       "5749      RIO DE JANEIRO            RJ                 SBGL     2020-12-30   \n",
       "5750           VICENTINA            MS                 ****     2020-12-31   \n",
       "5751      RIO DE JANEIRO            RJ                 SBJR     2020-12-31   \n",
       "\n",
       "     ocorrencia_hora  total_recomendacoes  \n",
       "0           12:00:00                    0  \n",
       "1           11:05:00                    0  \n",
       "2           03:00:00                    0  \n",
       "3           17:30:00                    0  \n",
       "4           19:25:00                    0  \n",
       "...              ...                  ...  \n",
       "5747        19:00:00                    0  \n",
       "5748        18:30:00                    0  \n",
       "5749        00:54:00                    0  \n",
       "5750        09:00:00                    0  \n",
       "5751        13:24:00                    0  \n",
       "\n",
       "[5752 rows x 9 columns]"
      ]
     },
     "execution_count": 21,
     "metadata": {},
     "output_type": "execute_result"
    }
   ],
   "source": [
    "schema.validate(df) #se exibir o dataframe, então passou pela validação"
   ]
  },
  {
   "cell_type": "markdown",
   "id": "5eaf89a3-99b5-4860-8025-4ce324410bb9",
   "metadata": {},
   "source": [
    "### Visualizando os tipos de dados das colunas carregadas"
   ]
  },
  {
   "cell_type": "code",
   "execution_count": 6,
   "id": "69221320-28e5-4fe7-b996-efe0a804036e",
   "metadata": {},
   "outputs": [
    {
     "data": {
      "text/plain": [
       "codigo_ocorrencia                    int64\n",
       "codigo_ocorrencia2                   int64\n",
       "ocorrencia_classificacao            object\n",
       "ocorrencia_cidade                   object\n",
       "ocorrencia_uf                       object\n",
       "ocorrencia_aerodromo                object\n",
       "ocorrencia_dia              datetime64[ns]\n",
       "ocorrencia_hora                     object\n",
       "total_recomendacoes                  int64\n",
       "dtype: object"
      ]
     },
     "execution_count": 6,
     "metadata": {},
     "output_type": "execute_result"
    }
   ],
   "source": [
    "df.dtypes"
   ]
  },
  {
   "cell_type": "code",
   "execution_count": 7,
   "id": "3525335a-c278-4314-ad1a-8d4261bc1258",
   "metadata": {},
   "outputs": [],
   "source": [
    "#Observamos que ocorrencia_dia é uma data, mas está como object (string)\n",
    "#Precisamos convertê-lo para data\n",
    "#Na leitura do csv, passa o parametro parse_dates"
   ]
  },
  {
   "cell_type": "code",
   "execution_count": 8,
   "id": "57a49e34-c7b0-466c-8a7c-68f6ea9d9ffd",
   "metadata": {},
   "outputs": [
    {
     "data": {
      "text/plain": [
       "0        1\n",
       "1        1\n",
       "2        1\n",
       "3        1\n",
       "4        1\n",
       "        ..\n",
       "5747    12\n",
       "5748    12\n",
       "5749    12\n",
       "5750    12\n",
       "5751    12\n",
       "Name: ocorrencia_dia, Length: 5752, dtype: int64"
      ]
     },
     "execution_count": 8,
     "metadata": {},
     "output_type": "execute_result"
    }
   ],
   "source": [
    "#Obtendo o mês de cada data\n",
    "df.ocorrencia_dia.dt.month"
   ]
  },
  {
   "cell_type": "markdown",
   "id": "4a765e63-279f-47d8-8b0a-87d698196eda",
   "metadata": {},
   "source": [
    "### -> O Dataframe está carregado e podemos começar a validar os dados"
   ]
  },
  {
   "cell_type": "markdown",
   "id": "6b50ad27-fd0a-4f4e-89eb-72f47d7f100c",
   "metadata": {},
   "source": [
    "## Etapa de Validação"
   ]
  },
  {
   "cell_type": "markdown",
   "id": "f857e91f-7561-434b-8824-a2e7d0af7efd",
   "metadata": {},
   "source": [
    "### Vamos checar o conjunto de dados em relação ao tipo de dados estipulados para a leitura desses dados"
   ]
  },
  {
   "cell_type": "markdown",
   "id": "29823b2c-0e0c-4ce8-8736-8ad7cc445a74",
   "metadata": {},
   "source": [
    "### Atenção a coluna ocorrencia_dia\n",
    "Está no formato aaaa/dd/mm . Ao carregar o csv, colocar o parametro dayfirst=True\n"
   ]
  },
  {
   "cell_type": "markdown",
   "id": "a6b6af5e-5d80-4281-9ab0-67f55bfb4b54",
   "metadata": {},
   "source": [
    "### Quando não existir data, vem com o dado Nat. Se fosse um texto, viria NaN"
   ]
  },
  {
   "cell_type": "markdown",
   "id": "9ddfe5d7-2059-4418-b2c0-a8f4de54d93f",
   "metadata": {},
   "source": [
    "### Validação dos tipos de dados"
   ]
  },
  {
   "cell_type": "code",
   "execution_count": 9,
   "id": "029751ee-4444-480f-8a92-993d70b4e1af",
   "metadata": {},
   "outputs": [
    {
     "data": {
      "text/plain": [
       "codigo_ocorrencia                    int64\n",
       "codigo_ocorrencia2                   int64\n",
       "ocorrencia_classificacao            object\n",
       "ocorrencia_cidade                   object\n",
       "ocorrencia_uf                       object\n",
       "ocorrencia_aerodromo                object\n",
       "ocorrencia_dia              datetime64[ns]\n",
       "ocorrencia_hora                     object\n",
       "total_recomendacoes                  int64\n",
       "dtype: object"
      ]
     },
     "execution_count": 9,
     "metadata": {},
     "output_type": "execute_result"
    }
   ],
   "source": [
    "df.dtypes"
   ]
  },
  {
   "cell_type": "markdown",
   "id": "ed25f53c-d873-4cf2-afe9-f24a3932de3f",
   "metadata": {},
   "source": [
    "### Mesmo usando o parse_dates, podem haver problemas"
   ]
  },
  {
   "cell_type": "markdown",
   "id": "aeb6090d-f348-41f5-a88c-e338825174d9",
   "metadata": {},
   "source": [
    "#### Se vier alguma data fora do padrão, o parse de datas não é feito"
   ]
  },
  {
   "cell_type": "code",
   "execution_count": 10,
   "id": "e8d44e8f-6e5d-4d75-a7dd-b567f3e2b3d4",
   "metadata": {},
   "outputs": [],
   "source": [
    "#### Usamos uma biblioteca para montar um esquema de validação do dataframe\n",
    "#### No caso o esquema vai validar se a coluna ocorrencia_dia é do tipo data\n",
    "#### Se não for, gera uma excessão\n",
    "#### instalar pandera"
   ]
  },
  {
   "cell_type": "raw",
   "id": "c9d9a596-3d45-4b25-8b2a-9100adea2bd7",
   "metadata": {},
   "source": [
    "!pip install pandera"
   ]
  },
  {
   "cell_type": "raw",
   "id": "31c4f4e6-40c2-466c-aedd-d86f4c0c267c",
   "metadata": {},
   "source": [
    "import pandera as pa"
   ]
  },
  {
   "cell_type": "markdown",
   "id": "f2183025-6839-4d94-a62e-b12b3ce06c4c",
   "metadata": {},
   "source": [
    "### Montando o esquema de validação do dataframe"
   ]
  },
  {
   "cell_type": "markdown",
   "id": "1fd93c6d-105f-44e4-bae2-8a5a7d3b6bd6",
   "metadata": {},
   "source": [
    "#### Monta o esquema logo abaixo do dataframe"
   ]
  },
  {
   "cell_type": "markdown",
   "id": "c413e54d-9ac3-4cb2-ac6c-d1685d8f23db",
   "metadata": {},
   "source": [
    "# Limpeza de Dados"
   ]
  },
  {
   "cell_type": "markdown",
   "id": "40f3714b-1463-4300-86f0-0d27c2f57811",
   "metadata": {},
   "source": [
    "## O que iremos limpar nos dados\n",
    "Observando as colunas no Libre, observamos que existem dados que não condizem, como siglas que significam que tal dado nao foi informado."
   ]
  },
  {
   "cell_type": "markdown",
   "id": "2a70ac39-c793-40ff-94d5-131c71bfa146",
   "metadata": {},
   "source": [
    "Quem detem o dominio do projeto vai informar quais os dados que devem ser classificados como dados não informados"
   ]
  },
  {
   "cell_type": "code",
   "execution_count": null,
   "id": "cd6af8b2-5f2b-4a14-bbff-f6f387ea739b",
   "metadata": {},
   "outputs": [],
   "source": []
  }
 ],
 "metadata": {
  "kernelspec": {
   "display_name": "Python 3 (ipykernel)",
   "language": "python",
   "name": "python3"
  },
  "language_info": {
   "codemirror_mode": {
    "name": "ipython",
    "version": 3
   },
   "file_extension": ".py",
   "mimetype": "text/x-python",
   "name": "python",
   "nbconvert_exporter": "python",
   "pygments_lexer": "ipython3",
   "version": "3.7.10"
  }
 },
 "nbformat": 4,
 "nbformat_minor": 5
}
